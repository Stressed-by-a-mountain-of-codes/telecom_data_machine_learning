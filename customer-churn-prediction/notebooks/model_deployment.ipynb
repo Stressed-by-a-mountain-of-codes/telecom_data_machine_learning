{
 "cells": [
  {
   "cell_type": "code",
   "execution_count": 1,
   "id": "1b77c88b-1c77-4b1a-a0ed-1cd5c8cb0a92",
   "metadata": {},
   "outputs": [],
   "source": [
    "# Importing necessary libraries for deployment\n",
    "import joblib  # For saving the model\n",
    "import pandas as pd  # For handling data\n",
    "import numpy as np  # For numerical operations\n"
   ]
  },
  {
   "cell_type": "code",
   "execution_count": 6,
   "id": "1eafd757-8245-40ce-82b7-d2c17abc3228",
   "metadata": {},
   "outputs": [
    {
     "name": "stdout",
     "output_type": "stream",
     "text": [
      "Model loaded successfully!\n"
     ]
    }
   ],
   "source": [
    "import joblib\n",
    "\n",
    "# Load the trained RandomForest model\n",
    "model_path = '../models/random_forest_model.pkl'  # adjusted path based on your structure\n",
    "model = joblib.load(model_path)\n",
    "\n",
    "print(\"Model loaded successfully!\")\n"
   ]
  },
  {
   "cell_type": "code",
   "execution_count": 11,
   "id": "446e0ec7-487c-4dad-af63-242f8287e962",
   "metadata": {},
   "outputs": [
    {
     "name": "stdout",
     "output_type": "stream",
     "text": [
      "Churn Predictions for Sample Test Data:\n",
      "[1 0 0 1 0]\n"
     ]
    }
   ],
   "source": [
    "import pandas as pd\n",
    "from sklearn.model_selection import train_test_split\n",
    "\n",
    "# Load original dataset again for consistent preprocessing\n",
    "data = pd.read_csv('../data/Telco_Customer_Churn_Dataset.csv')\n",
    "\n",
    "# Clean 'TotalCharges' column safely\n",
    "data['TotalCharges'] = pd.to_numeric(data['TotalCharges'], errors='coerce')\n",
    "data['TotalCharges'] = data['TotalCharges'].fillna(data['TotalCharges'].median())\n",
    "\n",
    "# Encode target\n",
    "data['Churn'] = data['Churn'].map({'Yes': 1, 'No': 0})\n",
    "\n",
    "# Drop customerID\n",
    "data.drop('customerID', axis=1, inplace=True)\n",
    "\n",
    "# One-hot encode categorical columns\n",
    "categorical_cols = data.select_dtypes(include=['object']).columns.tolist()\n",
    "data_encoded = pd.get_dummies(data, columns=categorical_cols)\n",
    "\n",
    "# Split data\n",
    "X = data_encoded.drop('Churn', axis=1)\n",
    "y = data_encoded['Churn']\n",
    "X_train_full, X_test_full, y_train, y_test = train_test_split(X, y, test_size=0.2, random_state=42)\n",
    "\n",
    "# Feature selection - use same columns used in training\n",
    "selected_features = model.feature_names_in_\n",
    "X_test_selected = X_test_full[selected_features]\n",
    "\n",
    "# Take sample test data\n",
    "test_samples = X_test_selected.iloc[:5]\n",
    "\n",
    "# Predict\n",
    "predictions = model.predict(test_samples)\n",
    "\n",
    "# Output\n",
    "print(\"Churn Predictions for Sample Test Data:\")\n",
    "print(predictions)\n"
   ]
  },
  {
   "cell_type": "code",
   "execution_count": 13,
   "id": "43cf915f-7cce-4da5-81bf-86429ebae260",
   "metadata": {},
   "outputs": [
    {
     "name": "stdout",
     "output_type": "stream",
     "text": [
      "Index(['tenure', 'MonthlyCharges', 'Contract_One year', 'Contract_Two year',\n",
      "       'InternetService_Fiber optic', 'PaymentMethod_Electronic check'],\n",
      "      dtype='object')\n"
     ]
    }
   ],
   "source": [
    "# Check the columns of the test_samples DataFrame\n",
    "print(test_samples.columns)\n"
   ]
  },
  {
   "cell_type": "code",
   "execution_count": 14,
   "id": "d8262ce8-d4c8-4cc3-bb63-d95a02669af3",
   "metadata": {},
   "outputs": [
    {
     "name": "stdout",
     "output_type": "stream",
     "text": [
      "      MonthlyCharges  Contract_One year  Contract_Two year  Churn Prediction\n",
      "185            24.80              False              False                 1\n",
      "2715           25.25              False              False                 0\n",
      "3825           19.35              False               True                 0\n",
      "1807           76.35              False              False                 1\n",
      "132            50.55              False               True                 0\n"
     ]
    }
   ],
   "source": [
    "# Display the sample data with predictions\n",
    "sample_data_with_predictions = test_samples.copy()\n",
    "sample_data_with_predictions['Churn Prediction'] = predictions  # Add predictions to the DataFrame\n",
    "\n",
    "# Print the relevant columns (adjusted column names)\n",
    "print(sample_data_with_predictions[['MonthlyCharges', 'Contract_One year', 'Contract_Two year', 'Churn Prediction']])\n"
   ]
  },
  {
   "cell_type": "code",
   "execution_count": null,
   "id": "c894bbe2-63a3-4426-9604-d980888ccc41",
   "metadata": {},
   "outputs": [],
   "source": []
  }
 ],
 "metadata": {
  "kernelspec": {
   "display_name": "Python 3 (ipykernel)",
   "language": "python",
   "name": "python3"
  },
  "language_info": {
   "codemirror_mode": {
    "name": "ipython",
    "version": 3
   },
   "file_extension": ".py",
   "mimetype": "text/x-python",
   "name": "python",
   "nbconvert_exporter": "python",
   "pygments_lexer": "ipython3",
   "version": "3.12.7"
  }
 },
 "nbformat": 4,
 "nbformat_minor": 5
}
